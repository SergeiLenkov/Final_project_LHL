{
 "cells": [
  {
   "cell_type": "markdown",
   "id": "22fdbe33-6763-4155-a288-04dc1ece159d",
   "metadata": {},
   "source": [
    "## Baseline_model and first simple model"
   ]
  },
  {
   "cell_type": "code",
   "execution_count": 1,
   "id": "d922502f-a4ca-49f6-92d0-fc014709c127",
   "metadata": {},
   "outputs": [],
   "source": [
    "import numpy as np\n",
    "import pandas as pd\n",
    "from sklearn.pipeline import make_pipeline\n",
    "from sklearn.pipeline import Pipeline\n",
    "from sklearn.compose import ColumnTransformer\n",
    "from sklearn.preprocessing import OneHotEncoder, MinMaxScaler\n",
    "from sklearn.model_selection import train_test_split\n",
    "from sklearn.model_selection import cross_val_score\n",
    "from sklearn.model_selection import KFold\n",
    "\n",
    "\n",
    "from sklearn.linear_model import LinearRegression\n",
    "from sklearn.svm import SVR\n",
    "import xgboost as xgb\n",
    "from sklearn.model_selection import GridSearchCV\n",
    "\n",
    "\n",
    "from sklearn.metrics import mean_absolute_error\n",
    "from sklearn.metrics import mean_squared_error\n",
    "from sklearn.metrics import r2_score"
   ]
  },
  {
   "cell_type": "code",
   "execution_count": 2,
   "id": "f66c6d21-6a9b-4768-85bc-88ff1bfc8aa5",
   "metadata": {},
   "outputs": [],
   "source": [
    "# Loading the dataset for our baseline model\n",
    "df_baseline = pd.read_csv('/home/sergei/Desktop/LighthouseLabs/Re_enter_bootcamp/Final_Project/Austin_House_data/baseline_dataset.csv', index_col=None)"
   ]
  },
  {
   "cell_type": "code",
   "execution_count": 3,
   "id": "74c93500-8a93-4b60-844d-23a8a77170bf",
   "metadata": {},
   "outputs": [],
   "source": [
    "pd.set_option('display.max_columns', None)"
   ]
  },
  {
   "cell_type": "code",
   "execution_count": 4,
   "id": "da56c3a9-ef81-4d52-83b1-65ca3c194c6f",
   "metadata": {},
   "outputs": [
    {
     "data": {
      "text/html": [
       "<div>\n",
       "<style scoped>\n",
       "    .dataframe tbody tr th:only-of-type {\n",
       "        vertical-align: middle;\n",
       "    }\n",
       "\n",
       "    .dataframe tbody tr th {\n",
       "        vertical-align: top;\n",
       "    }\n",
       "\n",
       "    .dataframe thead th {\n",
       "        text-align: right;\n",
       "    }\n",
       "</style>\n",
       "<table border=\"1\" class=\"dataframe\">\n",
       "  <thead>\n",
       "    <tr style=\"text-align: right;\">\n",
       "      <th></th>\n",
       "      <th>Unnamed: 0</th>\n",
       "      <th>new_price</th>\n",
       "      <th>latitude</th>\n",
       "      <th>longitude</th>\n",
       "      <th>propertyTaxRate</th>\n",
       "      <th>garageSpaces</th>\n",
       "      <th>hasAssociation</th>\n",
       "      <th>hasCooling</th>\n",
       "      <th>hasGarage</th>\n",
       "      <th>hasHeating</th>\n",
       "      <th>hasSpa</th>\n",
       "      <th>hasView</th>\n",
       "      <th>homeType</th>\n",
       "      <th>parkingSpaces</th>\n",
       "      <th>yearBuilt</th>\n",
       "      <th>numPriceChanges</th>\n",
       "      <th>numOfAccessibilityFeatures</th>\n",
       "      <th>numOfAppliances</th>\n",
       "      <th>numOfParkingFeatures</th>\n",
       "      <th>numOfPatioAndPorchFeatures</th>\n",
       "      <th>numOfSecurityFeatures</th>\n",
       "      <th>numOfWaterfrontFeatures</th>\n",
       "      <th>numOfWindowFeatures</th>\n",
       "      <th>numOfCommunityFeatures</th>\n",
       "      <th>lotSizeSqFt</th>\n",
       "      <th>livingAreaSqFt</th>\n",
       "      <th>numOfPrimarySchools</th>\n",
       "      <th>numOfElementarySchools</th>\n",
       "      <th>numOfMiddleSchools</th>\n",
       "      <th>numOfHighSchools</th>\n",
       "      <th>avgSchoolDistance</th>\n",
       "      <th>avgSchoolRating</th>\n",
       "      <th>avgSchoolSize</th>\n",
       "      <th>MedianStudentsPerTeacher</th>\n",
       "      <th>numOfBathrooms</th>\n",
       "      <th>numOfBedrooms</th>\n",
       "      <th>numOfStories</th>\n",
       "    </tr>\n",
       "  </thead>\n",
       "  <tbody>\n",
       "    <tr>\n",
       "      <th>0</th>\n",
       "      <td>0</td>\n",
       "      <td>757493.0</td>\n",
       "      <td>30.486408</td>\n",
       "      <td>-97.794724</td>\n",
       "      <td>2.21</td>\n",
       "      <td>0</td>\n",
       "      <td>True</td>\n",
       "      <td>True</td>\n",
       "      <td>False</td>\n",
       "      <td>True</td>\n",
       "      <td>False</td>\n",
       "      <td>False</td>\n",
       "      <td>Single Family</td>\n",
       "      <td>0</td>\n",
       "      <td>2014</td>\n",
       "      <td>13</td>\n",
       "      <td>0</td>\n",
       "      <td>4</td>\n",
       "      <td>2</td>\n",
       "      <td>0</td>\n",
       "      <td>0</td>\n",
       "      <td>0</td>\n",
       "      <td>0</td>\n",
       "      <td>0</td>\n",
       "      <td>10672.0</td>\n",
       "      <td>4564.0</td>\n",
       "      <td>1</td>\n",
       "      <td>0</td>\n",
       "      <td>1</td>\n",
       "      <td>1</td>\n",
       "      <td>3.266667</td>\n",
       "      <td>7.666667</td>\n",
       "      <td>1259</td>\n",
       "      <td>14</td>\n",
       "      <td>6.0</td>\n",
       "      <td>5</td>\n",
       "      <td>2</td>\n",
       "    </tr>\n",
       "    <tr>\n",
       "      <th>1</th>\n",
       "      <td>1</td>\n",
       "      <td>417108.0</td>\n",
       "      <td>30.494375</td>\n",
       "      <td>-97.796516</td>\n",
       "      <td>2.21</td>\n",
       "      <td>2</td>\n",
       "      <td>True</td>\n",
       "      <td>True</td>\n",
       "      <td>True</td>\n",
       "      <td>True</td>\n",
       "      <td>False</td>\n",
       "      <td>True</td>\n",
       "      <td>Single Family</td>\n",
       "      <td>2</td>\n",
       "      <td>2007</td>\n",
       "      <td>4</td>\n",
       "      <td>0</td>\n",
       "      <td>6</td>\n",
       "      <td>3</td>\n",
       "      <td>0</td>\n",
       "      <td>0</td>\n",
       "      <td>0</td>\n",
       "      <td>0</td>\n",
       "      <td>0</td>\n",
       "      <td>9060.0</td>\n",
       "      <td>3233.0</td>\n",
       "      <td>1</td>\n",
       "      <td>0</td>\n",
       "      <td>1</td>\n",
       "      <td>1</td>\n",
       "      <td>1.933333</td>\n",
       "      <td>8.333333</td>\n",
       "      <td>1481</td>\n",
       "      <td>16</td>\n",
       "      <td>4.0</td>\n",
       "      <td>5</td>\n",
       "      <td>2</td>\n",
       "    </tr>\n",
       "    <tr>\n",
       "      <th>2</th>\n",
       "      <td>2</td>\n",
       "      <td>201441.0</td>\n",
       "      <td>30.255707</td>\n",
       "      <td>-97.576958</td>\n",
       "      <td>1.98</td>\n",
       "      <td>2</td>\n",
       "      <td>False</td>\n",
       "      <td>True</td>\n",
       "      <td>True</td>\n",
       "      <td>True</td>\n",
       "      <td>False</td>\n",
       "      <td>False</td>\n",
       "      <td>Single Family</td>\n",
       "      <td>2</td>\n",
       "      <td>2006</td>\n",
       "      <td>3</td>\n",
       "      <td>1</td>\n",
       "      <td>2</td>\n",
       "      <td>2</td>\n",
       "      <td>1</td>\n",
       "      <td>0</td>\n",
       "      <td>0</td>\n",
       "      <td>0</td>\n",
       "      <td>0</td>\n",
       "      <td>7448.0</td>\n",
       "      <td>1511.0</td>\n",
       "      <td>1</td>\n",
       "      <td>0</td>\n",
       "      <td>1</td>\n",
       "      <td>1</td>\n",
       "      <td>2.433333</td>\n",
       "      <td>2.666667</td>\n",
       "      <td>1478</td>\n",
       "      <td>13</td>\n",
       "      <td>2.0</td>\n",
       "      <td>3</td>\n",
       "      <td>1</td>\n",
       "    </tr>\n",
       "    <tr>\n",
       "      <th>3</th>\n",
       "      <td>3</td>\n",
       "      <td>458883.0</td>\n",
       "      <td>30.495638</td>\n",
       "      <td>-97.797874</td>\n",
       "      <td>2.21</td>\n",
       "      <td>0</td>\n",
       "      <td>True</td>\n",
       "      <td>True</td>\n",
       "      <td>False</td>\n",
       "      <td>True</td>\n",
       "      <td>False</td>\n",
       "      <td>False</td>\n",
       "      <td>Single Family</td>\n",
       "      <td>0</td>\n",
       "      <td>2008</td>\n",
       "      <td>2</td>\n",
       "      <td>0</td>\n",
       "      <td>3</td>\n",
       "      <td>2</td>\n",
       "      <td>0</td>\n",
       "      <td>0</td>\n",
       "      <td>0</td>\n",
       "      <td>0</td>\n",
       "      <td>0</td>\n",
       "      <td>7666.0</td>\n",
       "      <td>2228.0</td>\n",
       "      <td>1</td>\n",
       "      <td>0</td>\n",
       "      <td>1</td>\n",
       "      <td>1</td>\n",
       "      <td>1.900000</td>\n",
       "      <td>8.333333</td>\n",
       "      <td>1481</td>\n",
       "      <td>16</td>\n",
       "      <td>2.0</td>\n",
       "      <td>3</td>\n",
       "      <td>1</td>\n",
       "    </tr>\n",
       "    <tr>\n",
       "      <th>4</th>\n",
       "      <td>4</td>\n",
       "      <td>664216.0</td>\n",
       "      <td>30.488775</td>\n",
       "      <td>-97.794899</td>\n",
       "      <td>2.21</td>\n",
       "      <td>2</td>\n",
       "      <td>True</td>\n",
       "      <td>True</td>\n",
       "      <td>True</td>\n",
       "      <td>True</td>\n",
       "      <td>False</td>\n",
       "      <td>False</td>\n",
       "      <td>Single Family</td>\n",
       "      <td>2</td>\n",
       "      <td>2013</td>\n",
       "      <td>2</td>\n",
       "      <td>0</td>\n",
       "      <td>4</td>\n",
       "      <td>3</td>\n",
       "      <td>0</td>\n",
       "      <td>0</td>\n",
       "      <td>0</td>\n",
       "      <td>0</td>\n",
       "      <td>0</td>\n",
       "      <td>8494.0</td>\n",
       "      <td>3494.0</td>\n",
       "      <td>1</td>\n",
       "      <td>0</td>\n",
       "      <td>1</td>\n",
       "      <td>1</td>\n",
       "      <td>3.300000</td>\n",
       "      <td>7.666667</td>\n",
       "      <td>1259</td>\n",
       "      <td>14</td>\n",
       "      <td>5.0</td>\n",
       "      <td>4</td>\n",
       "      <td>2</td>\n",
       "    </tr>\n",
       "  </tbody>\n",
       "</table>\n",
       "</div>"
      ],
      "text/plain": [
       "   Unnamed: 0  new_price   latitude  longitude  propertyTaxRate  garageSpaces  \\\n",
       "0           0   757493.0  30.486408 -97.794724             2.21             0   \n",
       "1           1   417108.0  30.494375 -97.796516             2.21             2   \n",
       "2           2   201441.0  30.255707 -97.576958             1.98             2   \n",
       "3           3   458883.0  30.495638 -97.797874             2.21             0   \n",
       "4           4   664216.0  30.488775 -97.794899             2.21             2   \n",
       "\n",
       "   hasAssociation  hasCooling  hasGarage  hasHeating  hasSpa  hasView  \\\n",
       "0            True        True      False        True   False    False   \n",
       "1            True        True       True        True   False     True   \n",
       "2           False        True       True        True   False    False   \n",
       "3            True        True      False        True   False    False   \n",
       "4            True        True       True        True   False    False   \n",
       "\n",
       "        homeType  parkingSpaces  yearBuilt  numPriceChanges  \\\n",
       "0  Single Family              0       2014               13   \n",
       "1  Single Family              2       2007                4   \n",
       "2  Single Family              2       2006                3   \n",
       "3  Single Family              0       2008                2   \n",
       "4  Single Family              2       2013                2   \n",
       "\n",
       "   numOfAccessibilityFeatures  numOfAppliances  numOfParkingFeatures  \\\n",
       "0                           0                4                     2   \n",
       "1                           0                6                     3   \n",
       "2                           1                2                     2   \n",
       "3                           0                3                     2   \n",
       "4                           0                4                     3   \n",
       "\n",
       "   numOfPatioAndPorchFeatures  numOfSecurityFeatures  numOfWaterfrontFeatures  \\\n",
       "0                           0                      0                        0   \n",
       "1                           0                      0                        0   \n",
       "2                           1                      0                        0   \n",
       "3                           0                      0                        0   \n",
       "4                           0                      0                        0   \n",
       "\n",
       "   numOfWindowFeatures  numOfCommunityFeatures  lotSizeSqFt  livingAreaSqFt  \\\n",
       "0                    0                       0      10672.0          4564.0   \n",
       "1                    0                       0       9060.0          3233.0   \n",
       "2                    0                       0       7448.0          1511.0   \n",
       "3                    0                       0       7666.0          2228.0   \n",
       "4                    0                       0       8494.0          3494.0   \n",
       "\n",
       "   numOfPrimarySchools  numOfElementarySchools  numOfMiddleSchools  \\\n",
       "0                    1                       0                   1   \n",
       "1                    1                       0                   1   \n",
       "2                    1                       0                   1   \n",
       "3                    1                       0                   1   \n",
       "4                    1                       0                   1   \n",
       "\n",
       "   numOfHighSchools  avgSchoolDistance  avgSchoolRating  avgSchoolSize  \\\n",
       "0                 1           3.266667         7.666667           1259   \n",
       "1                 1           1.933333         8.333333           1481   \n",
       "2                 1           2.433333         2.666667           1478   \n",
       "3                 1           1.900000         8.333333           1481   \n",
       "4                 1           3.300000         7.666667           1259   \n",
       "\n",
       "   MedianStudentsPerTeacher  numOfBathrooms  numOfBedrooms  numOfStories  \n",
       "0                        14             6.0              5             2  \n",
       "1                        16             4.0              5             2  \n",
       "2                        13             2.0              3             1  \n",
       "3                        16             2.0              3             1  \n",
       "4                        14             5.0              4             2  "
      ]
     },
     "execution_count": 4,
     "metadata": {},
     "output_type": "execute_result"
    }
   ],
   "source": [
    "df_baseline.head(5)"
   ]
  },
  {
   "cell_type": "code",
   "execution_count": 5,
   "id": "3a95d009-035a-42c2-8021-5e357810ec53",
   "metadata": {},
   "outputs": [],
   "source": [
    "df_baseline.drop('Unnamed: 0', axis=1, inplace=True)"
   ]
  },
  {
   "cell_type": "code",
   "execution_count": 6,
   "id": "e77979bd-38f3-40e0-9503-756b2135ddf0",
   "metadata": {},
   "outputs": [
    {
     "data": {
      "text/html": [
       "<div>\n",
       "<style scoped>\n",
       "    .dataframe tbody tr th:only-of-type {\n",
       "        vertical-align: middle;\n",
       "    }\n",
       "\n",
       "    .dataframe tbody tr th {\n",
       "        vertical-align: top;\n",
       "    }\n",
       "\n",
       "    .dataframe thead th {\n",
       "        text-align: right;\n",
       "    }\n",
       "</style>\n",
       "<table border=\"1\" class=\"dataframe\">\n",
       "  <thead>\n",
       "    <tr style=\"text-align: right;\">\n",
       "      <th></th>\n",
       "      <th>new_price</th>\n",
       "      <th>latitude</th>\n",
       "      <th>longitude</th>\n",
       "      <th>propertyTaxRate</th>\n",
       "      <th>garageSpaces</th>\n",
       "      <th>hasAssociation</th>\n",
       "      <th>hasCooling</th>\n",
       "      <th>hasGarage</th>\n",
       "      <th>hasHeating</th>\n",
       "      <th>hasSpa</th>\n",
       "      <th>hasView</th>\n",
       "      <th>homeType</th>\n",
       "      <th>parkingSpaces</th>\n",
       "      <th>yearBuilt</th>\n",
       "      <th>numPriceChanges</th>\n",
       "      <th>numOfAccessibilityFeatures</th>\n",
       "      <th>numOfAppliances</th>\n",
       "      <th>numOfParkingFeatures</th>\n",
       "      <th>numOfPatioAndPorchFeatures</th>\n",
       "      <th>numOfSecurityFeatures</th>\n",
       "      <th>numOfWaterfrontFeatures</th>\n",
       "      <th>numOfWindowFeatures</th>\n",
       "      <th>numOfCommunityFeatures</th>\n",
       "      <th>lotSizeSqFt</th>\n",
       "      <th>livingAreaSqFt</th>\n",
       "      <th>numOfPrimarySchools</th>\n",
       "      <th>numOfElementarySchools</th>\n",
       "      <th>numOfMiddleSchools</th>\n",
       "      <th>numOfHighSchools</th>\n",
       "      <th>avgSchoolDistance</th>\n",
       "      <th>avgSchoolRating</th>\n",
       "      <th>avgSchoolSize</th>\n",
       "      <th>MedianStudentsPerTeacher</th>\n",
       "      <th>numOfBathrooms</th>\n",
       "      <th>numOfBedrooms</th>\n",
       "      <th>numOfStories</th>\n",
       "    </tr>\n",
       "  </thead>\n",
       "  <tbody>\n",
       "    <tr>\n",
       "      <th>0</th>\n",
       "      <td>757493.0</td>\n",
       "      <td>30.486408</td>\n",
       "      <td>-97.794724</td>\n",
       "      <td>2.21</td>\n",
       "      <td>0</td>\n",
       "      <td>True</td>\n",
       "      <td>True</td>\n",
       "      <td>False</td>\n",
       "      <td>True</td>\n",
       "      <td>False</td>\n",
       "      <td>False</td>\n",
       "      <td>Single Family</td>\n",
       "      <td>0</td>\n",
       "      <td>2014</td>\n",
       "      <td>13</td>\n",
       "      <td>0</td>\n",
       "      <td>4</td>\n",
       "      <td>2</td>\n",
       "      <td>0</td>\n",
       "      <td>0</td>\n",
       "      <td>0</td>\n",
       "      <td>0</td>\n",
       "      <td>0</td>\n",
       "      <td>10672.0</td>\n",
       "      <td>4564.0</td>\n",
       "      <td>1</td>\n",
       "      <td>0</td>\n",
       "      <td>1</td>\n",
       "      <td>1</td>\n",
       "      <td>3.266667</td>\n",
       "      <td>7.666667</td>\n",
       "      <td>1259</td>\n",
       "      <td>14</td>\n",
       "      <td>6.0</td>\n",
       "      <td>5</td>\n",
       "      <td>2</td>\n",
       "    </tr>\n",
       "  </tbody>\n",
       "</table>\n",
       "</div>"
      ],
      "text/plain": [
       "   new_price   latitude  longitude  propertyTaxRate  garageSpaces  \\\n",
       "0   757493.0  30.486408 -97.794724             2.21             0   \n",
       "\n",
       "   hasAssociation  hasCooling  hasGarage  hasHeating  hasSpa  hasView  \\\n",
       "0            True        True      False        True   False    False   \n",
       "\n",
       "        homeType  parkingSpaces  yearBuilt  numPriceChanges  \\\n",
       "0  Single Family              0       2014               13   \n",
       "\n",
       "   numOfAccessibilityFeatures  numOfAppliances  numOfParkingFeatures  \\\n",
       "0                           0                4                     2   \n",
       "\n",
       "   numOfPatioAndPorchFeatures  numOfSecurityFeatures  numOfWaterfrontFeatures  \\\n",
       "0                           0                      0                        0   \n",
       "\n",
       "   numOfWindowFeatures  numOfCommunityFeatures  lotSizeSqFt  livingAreaSqFt  \\\n",
       "0                    0                       0      10672.0          4564.0   \n",
       "\n",
       "   numOfPrimarySchools  numOfElementarySchools  numOfMiddleSchools  \\\n",
       "0                    1                       0                   1   \n",
       "\n",
       "   numOfHighSchools  avgSchoolDistance  avgSchoolRating  avgSchoolSize  \\\n",
       "0                 1           3.266667         7.666667           1259   \n",
       "\n",
       "   MedianStudentsPerTeacher  numOfBathrooms  numOfBedrooms  numOfStories  \n",
       "0                        14             6.0              5             2  "
      ]
     },
     "execution_count": 6,
     "metadata": {},
     "output_type": "execute_result"
    }
   ],
   "source": [
    "df_baseline.head(1)"
   ]
  },
  {
   "cell_type": "code",
   "execution_count": 7,
   "id": "b223f52f-2ee6-446b-afdc-be91be51dc74",
   "metadata": {},
   "outputs": [],
   "source": [
    "X = df_baseline.drop('new_price', axis=1)"
   ]
  },
  {
   "cell_type": "code",
   "execution_count": 8,
   "id": "b4be1cbe-89ff-4db8-a369-955c8d6c0058",
   "metadata": {},
   "outputs": [],
   "source": [
    "y = df_baseline.new_price\n",
    "y_log=np.log(y)"
   ]
  },
  {
   "cell_type": "code",
   "execution_count": 9,
   "id": "28735eb0-e3c5-4e0a-8bee-f9268fa7ea00",
   "metadata": {},
   "outputs": [],
   "source": [
    "# let's create a minimum baseline prediction that always predicts mean value of y and calculate MAE as a baseline measure\n",
    "y_baseline = y.copy()\n",
    "\n",
    "for i in range(len(y)):\n",
    "    y_baseline[i] = y.mean()"
   ]
  },
  {
   "cell_type": "code",
   "execution_count": 10,
   "id": "781f7ebc-0912-4bf0-9283-b35031878dfe",
   "metadata": {},
   "outputs": [
    {
     "name": "stdout",
     "output_type": "stream",
     "text": [
      "182036.90327521067\n"
     ]
    }
   ],
   "source": [
    "# Calculate MAE for baseline prediction and we will see the future improvement for other models\n",
    "print(mean_absolute_error(y, y_baseline))"
   ]
  },
  {
   "cell_type": "code",
   "execution_count": 11,
   "id": "0fba6f0c-8bef-4d97-9340-ae1c165a77f8",
   "metadata": {},
   "outputs": [],
   "source": [
    "# determine categorical and numerical features\n",
    "numerical_ix = X.select_dtypes(include=['int64', 'float64']).columns\n",
    "categorical_ix = X.select_dtypes(include=['object', 'bool']).columns"
   ]
  },
  {
   "cell_type": "code",
   "execution_count": 12,
   "id": "dcf6a16b-779e-4929-a719-edf92eca09e2",
   "metadata": {},
   "outputs": [],
   "source": [
    "# define the data preparation for the columns\n",
    "t = [('cat', OneHotEncoder(), categorical_ix), ('num', MinMaxScaler(), numerical_ix)]\n",
    "col_transform = ColumnTransformer(transformers=t)"
   ]
  },
  {
   "cell_type": "code",
   "execution_count": 13,
   "id": "ebc2d73b-a4af-4217-ae54-d0741ba925e4",
   "metadata": {},
   "outputs": [],
   "source": [
    "# Select random state\n",
    "randomstate=30"
   ]
  },
  {
   "cell_type": "code",
   "execution_count": 14,
   "id": "e995a5ac-7c60-493e-8563-770f71aa45ba",
   "metadata": {},
   "outputs": [],
   "source": [
    "# split the data\n",
    "X_train,X_test,y_train,y_test=train_test_split(X,y_log,test_size=0.25,random_state=randomstate)"
   ]
  },
  {
   "cell_type": "code",
   "execution_count": 15,
   "id": "037ab2f8-79d5-4890-b7e3-d8172db1cb73",
   "metadata": {},
   "outputs": [],
   "source": [
    "# define the model\n",
    "model = LinearRegression()"
   ]
  },
  {
   "cell_type": "code",
   "execution_count": 16,
   "id": "5600b1f0-4772-42a4-ba4f-9fb44f737262",
   "metadata": {},
   "outputs": [],
   "source": [
    "# define the data preparation and modeling pipeline\n",
    "pipeline = Pipeline(steps=[('prep',col_transform), ('m',model)])"
   ]
  },
  {
   "cell_type": "code",
   "execution_count": 17,
   "id": "cff97e37-bc45-4cff-8102-bb75703cfe4a",
   "metadata": {},
   "outputs": [],
   "source": [
    "# define the model cross-validation configuration\n",
    "cv = KFold(n_splits=10, shuffle=True, random_state=randomstate)"
   ]
  },
  {
   "cell_type": "code",
   "execution_count": 18,
   "id": "7b9c6459-ee11-428f-81a6-33d3c2cd1bb4",
   "metadata": {},
   "outputs": [],
   "source": [
    "# evaluate the pipeline using cross validation and calculate MAE as best metric for price prediction\n",
    "score_R2 = cross_val_score(pipeline, X, y, scoring='r2', cv=cv, n_jobs=-1)\n",
    "score_NMAE = cross_val_score(pipeline, X, y, scoring='neg_mean_absolute_error', cv=cv, n_jobs=-1)\n",
    "score_RMSE = cross_val_score(pipeline, X, y, scoring='neg_root_mean_squared_error', cv=cv, n_jobs=-1)"
   ]
  },
  {
   "cell_type": "code",
   "execution_count": 19,
   "id": "c2313e3f-05b6-4f81-b0ac-64801eb1f32d",
   "metadata": {},
   "outputs": [
    {
     "name": "stdout",
     "output_type": "stream",
     "text": [
      "0.520778989165867\n",
      "124097.07935256604\n",
      "181721.20090365023\n"
     ]
    }
   ],
   "source": [
    "print(score_R2.mean())\n",
    "print(abs(score_NMAE.mean()))\n",
    "print(abs(score_RMSE.mean()))"
   ]
  },
  {
   "cell_type": "code",
   "execution_count": 20,
   "id": "19300cf0-f58a-4cd3-b736-17e17cfed541",
   "metadata": {},
   "outputs": [
    {
     "name": "stdout",
     "output_type": "stream",
     "text": [
      "0.5680580727583858\n",
      "113825.82641362768\n",
      "184051.23353689475\n",
      "0.5634989752151239\n"
     ]
    }
   ],
   "source": [
    "# Predicting on log transformed target variable (less skewed target variable distribution) and finding actual MAE in $ when target variable inverse log transformed\n",
    "\n",
    "pipeline.fit(X_train, y_train)\n",
    "y_predict = pipeline.predict(X_test)\n",
    "\n",
    "#R2, MAE and RMSE\n",
    "print(r2_score(y_test, y_predict))\n",
    "print(mean_absolute_error(np.exp(y_test), np.exp(y_predict)))\n",
    "print(np.sqrt(mean_squared_error(np.exp(y_test), np.exp(y_predict))))\n",
    "\n",
    "# Adjusted R2\n",
    "n = X_test.shape[0]\n",
    "p = X_test.shape[1]\n",
    "R2 = r2_score(y_test, y_predict)\n",
    "adj_R2 = 1 - ((1-R2)*(n-1)/(n-p-1))\n",
    "print(adj_R2)"
   ]
  },
  {
   "cell_type": "code",
   "execution_count": 21,
   "id": "fa656513-fd6b-43cd-8f13-6887b294bc22",
   "metadata": {},
   "outputs": [],
   "source": [
    "# Not bad for the first trained model. I assume this good result is achieved because of our thorough work with outliers in EDA."
   ]
  },
  {
   "cell_type": "markdown",
   "id": "b06fdc45-e4b1-4aca-a11c-96c9c52a202f",
   "metadata": {},
   "source": [
    "## Modelling after the Feature engineering"
   ]
  },
  {
   "cell_type": "code",
   "execution_count": 22,
   "id": "b2c61816-5117-467b-a6a2-0a216954974a",
   "metadata": {},
   "outputs": [],
   "source": [
    "# loading datasets\n",
    "train = pd.read_csv('/home/sergei/Desktop/LighthouseLabs/Re_enter_bootcamp/Final_Project/Austin_House_data/train1_dataset.csv', index_col=0)\n",
    "test = pd.read_csv('/home/sergei/Desktop/LighthouseLabs/Re_enter_bootcamp/Final_Project/Austin_House_data/test1_dataset.csv', index_col=0)"
   ]
  },
  {
   "cell_type": "code",
   "execution_count": 23,
   "id": "ffc59945-98a7-4a01-b60b-4514e5f27a79",
   "metadata": {},
   "outputs": [],
   "source": [
    "# Separating and log-transforming target variable\n",
    "X_train = train.drop('new_price', axis=1)\n",
    "X_test = test.drop('new_price', axis=1)\n",
    "y_train = train.new_price\n",
    "y_test = test.new_price\n",
    "y_train_log=np.log(y_train)\n",
    "y_test_log=np.log(y_test)"
   ]
  },
  {
   "cell_type": "code",
   "execution_count": 24,
   "id": "00add0eb-8950-41b1-8d61-445df0a40ab3",
   "metadata": {},
   "outputs": [],
   "source": [
    "# determine categorical and numerical features\n",
    "numerical_ix = X_train.select_dtypes(include=['int64', 'float64']).columns\n",
    "categorical_ix = X_train.select_dtypes(include=['object']).columns"
   ]
  },
  {
   "cell_type": "code",
   "execution_count": 25,
   "id": "7e33be52-9eec-4107-a171-dcc39a7bdfd8",
   "metadata": {},
   "outputs": [],
   "source": [
    "# define the data preparation for the columns\n",
    "t = [('cat', OneHotEncoder(), categorical_ix), ('num', MinMaxScaler(), numerical_ix)]\n",
    "col_transform = ColumnTransformer(transformers=t)"
   ]
  },
  {
   "cell_type": "code",
   "execution_count": 26,
   "id": "34b53bd1-6edb-41dd-acd1-9d9478269e99",
   "metadata": {},
   "outputs": [],
   "source": [
    "# define the model\n",
    "model = LinearRegression()"
   ]
  },
  {
   "cell_type": "code",
   "execution_count": 27,
   "id": "583f0f5d-6429-460f-b46f-bc7f3d39ccde",
   "metadata": {},
   "outputs": [],
   "source": [
    "# define the data preparation and modeling pipeline\n",
    "pipeline = Pipeline(steps=[('prep',col_transform), ('m',model)])"
   ]
  },
  {
   "cell_type": "code",
   "execution_count": 28,
   "id": "7729cf1f-b5c9-4c9e-a92d-b46be5b93228",
   "metadata": {},
   "outputs": [
    {
     "name": "stdout",
     "output_type": "stream",
     "text": [
      "0.683609291113662\n",
      "94760.78913532176\n",
      "144752.5954272284\n"
     ]
    }
   ],
   "source": [
    "# Predicting on log transformed target variable (less skewed target variable distribution) and finding actual MAE in $ when target variable inverse log transformed\n",
    "pipeline.fit(X_train, y_train_log)\n",
    "y_predict_log = pipeline.predict(X_test)\n",
    "\n",
    "#R2, MAE and RMSE\n",
    "print(r2_score(y_test_log, y_predict_log))\n",
    "print(mean_absolute_error(np.exp(y_test_log), np.exp(y_predict_log)))\n",
    "print(np.sqrt(mean_squared_error(np.exp(y_test_log), np.exp(y_predict_log))))"
   ]
  },
  {
   "cell_type": "code",
   "execution_count": 29,
   "id": "dbde94e2-c4ee-40bc-83db-1b4a9466e22f",
   "metadata": {},
   "outputs": [
    {
     "name": "stdout",
     "output_type": "stream",
     "text": [
      "0.6822819102552835\n"
     ]
    }
   ],
   "source": [
    "# adjusted R2\n",
    "n = X_test.shape[0]\n",
    "p = X_test.shape[1]\n",
    "R2 = r2_score(y_test_log, y_predict_log)\n",
    "adj_R2 = 1 - ((1-R2)*(n-1)/(n-p-1))\n",
    "print(adj_R2)"
   ]
  },
  {
   "cell_type": "code",
   "execution_count": 30,
   "id": "29ffd6df-4fbc-4158-ae66-9ad3f8964919",
   "metadata": {},
   "outputs": [],
   "source": [
    "# The results improved - we already explain 2/3 of variation of the target vaiable and our Absolute Mean Error decreased by 17000$"
   ]
  },
  {
   "cell_type": "markdown",
   "id": "8162b014-737e-45f6-871d-e00f0c5f6416",
   "metadata": {},
   "source": [
    "## Modelling after NLP"
   ]
  },
  {
   "cell_type": "code",
   "execution_count": 31,
   "id": "71079ca1-00fe-4aef-bbbb-0fedab93ca57",
   "metadata": {},
   "outputs": [],
   "source": [
    "# loading datasets\n",
    "train = pd.read_csv('/home/sergei/Desktop/LighthouseLabs/Re_enter_bootcamp/Final_Project/Austin_House_data/train_nlp_dataset.csv', index_col=0)\n",
    "test = pd.read_csv('/home/sergei/Desktop/LighthouseLabs/Re_enter_bootcamp/Final_Project/Austin_House_data/test_nlp_dataset.csv', index_col=0)"
   ]
  },
  {
   "cell_type": "code",
   "execution_count": 32,
   "id": "f39536db-9e34-4f12-9558-0c47be1a5ca7",
   "metadata": {},
   "outputs": [],
   "source": [
    "# Separating and log-transforming target variable\n",
    "X_train = train.drop('new_price', axis=1)\n",
    "X_test = test.drop('new_price', axis=1)\n",
    "y_train = train.new_price\n",
    "y_test = test.new_price\n",
    "y_train_log=np.log(y_train)\n",
    "y_test_log=np.log(y_test)"
   ]
  },
  {
   "cell_type": "code",
   "execution_count": 33,
   "id": "640432c4-8b6b-400f-830e-76af82a82e9b",
   "metadata": {},
   "outputs": [],
   "source": [
    "# determine categorical and numerical features\n",
    "numerical_ix = X_train.select_dtypes(include=['int64', 'float64']).columns\n",
    "categorical_ix = X_train.select_dtypes(include=['object']).columns"
   ]
  },
  {
   "cell_type": "code",
   "execution_count": 34,
   "id": "4869eade-6c04-423c-aa7d-91846202178e",
   "metadata": {},
   "outputs": [],
   "source": [
    "# define the data preparation for the columns\n",
    "t = [('cat', OneHotEncoder(), categorical_ix), ('num', MinMaxScaler(), numerical_ix)]\n",
    "col_transform = ColumnTransformer(transformers=t)"
   ]
  },
  {
   "cell_type": "code",
   "execution_count": 35,
   "id": "d4244c05-f9b6-45ef-a676-58ea6bbc2955",
   "metadata": {},
   "outputs": [],
   "source": [
    "# define the model\n",
    "model = LinearRegression()"
   ]
  },
  {
   "cell_type": "code",
   "execution_count": 36,
   "id": "7d6c0c9b-3c74-4144-bf3d-9bb469fc68cc",
   "metadata": {},
   "outputs": [],
   "source": [
    "# define the data preparation and modeling pipeline\n",
    "pipeline = Pipeline(steps=[('prep',col_transform), ('m',model)])"
   ]
  },
  {
   "cell_type": "code",
   "execution_count": 37,
   "id": "b5e63cfa-3a5f-493b-a304-619dcf242002",
   "metadata": {},
   "outputs": [
    {
     "name": "stdout",
     "output_type": "stream",
     "text": [
      "0.6835462678523603\n",
      "94612.35940314812\n",
      "145084.04197734737\n"
     ]
    }
   ],
   "source": [
    "pipeline.fit(X_train, y_train_log)\n",
    "y_predict_log = pipeline.predict(X_test)\n",
    "\n",
    "#R2, MAE and RMSE\n",
    "print(r2_score(y_test_log, y_predict_log))\n",
    "print(mean_absolute_error(np.exp(y_test_log), np.exp(y_predict_log)))\n",
    "print(np.sqrt(mean_squared_error(np.exp(y_test_log), np.exp(y_predict_log))))"
   ]
  },
  {
   "cell_type": "code",
   "execution_count": 38,
   "id": "f2105c50-8456-429c-b283-273a151d77fd",
   "metadata": {},
   "outputs": [
    {
     "name": "stdout",
     "output_type": "stream",
     "text": [
      "0.6691305908184897\n"
     ]
    }
   ],
   "source": [
    "# adjusted R2\n",
    "n = X_test.shape[0]\n",
    "p = X_test.shape[1]\n",
    "R2 = r2_score(y_test_log, y_predict_log)\n",
    "adj_R2 = 1 - ((1-R2)*(n-1)/(n-p-1))\n",
    "print(adj_R2)"
   ]
  },
  {
   "cell_type": "code",
   "execution_count": 39,
   "id": "0b4991fb-292e-4996-991b-0ff3fa7a76fc",
   "metadata": {},
   "outputs": [],
   "source": [
    "# The results are disappointing at first since our model has not improved, but from my point of view it is because of the limitations of linear regression model and we have more than 100 features.\n",
    "# Let's try another more complex one, for example SVM with hyperparameter tuning"
   ]
  },
  {
   "cell_type": "markdown",
   "id": "111ac377-28d0-4a42-a4ee-36085bc9aaf0",
   "metadata": {
    "tags": []
   },
   "source": [
    "# Modelling SVM with hyperparameter tuning using GridSearchCV"
   ]
  },
  {
   "cell_type": "code",
   "execution_count": 40,
   "id": "4468dfed-2a64-4502-985f-6f979b0ac688",
   "metadata": {},
   "outputs": [
    {
     "data": {
      "text/plain": [
       "'# Parameter Tuning\\n\\nparam_grid = {\\'m__kernel\\' : [\\'rbf\\'],\\n              \\'m__gamma\\' : [\\'auto\\'],\\n              \\'m__C\\':[75, 100, 125],\\n              \\'m__epsilon\\':[0.05, 0.1, 0.15],\\n              \\'m__tol\\':[0.001,0.005,0.01,0.05]\\n              }\\n\\nmodel = SVR()\\n\\npipeline = Pipeline(steps=[(\\'prep\\',col_transform), (\\'m\\',model)])\\n\\ngrid_search = GridSearchCV(pipeline, param_grid, verbose=10, scoring=\\'neg_mean_absolute_error\\', cv=5, n_jobs=-1)\\n\\ngrid_search.fit(X_train, y_train_log)\\n\\ngrid_search.best_estimator_\\n\\nprint(\"Best parameters set found on train set: \\n\")\\nprint(grid_search.best_params_)\\nprint(\"\\nGrid scores on train set:\\n\")\\nmeans = grid_search.cv_results_[\\'mean_test_score\\']\\nstds = grid_search.cv_results_[\\'std_test_score\\']\\nfor mean, std, params in zip(means, stds, grid_search.cv_results_[\\'params\\']):\\n    print(\"%0.3f (+/-%0.03f) for %r\"\\n              % (mean, std * 2, params))'"
      ]
     },
     "execution_count": 40,
     "metadata": {},
     "output_type": "execute_result"
    }
   ],
   "source": [
    "'''# Parameter Tuning\n",
    "\n",
    "param_grid = {'m__kernel' : ['rbf'],\n",
    "              'm__gamma' : ['auto'],\n",
    "              'm__C':[75, 100, 125],\n",
    "              'm__epsilon':[0.05, 0.1, 0.15],\n",
    "              'm__tol':[0.001,0.005,0.01,0.05]\n",
    "              }\n",
    "\n",
    "model = SVR()\n",
    "\n",
    "pipeline = Pipeline(steps=[('prep',col_transform), ('m',model)])\n",
    "\n",
    "grid_search = GridSearchCV(pipeline, param_grid, verbose=10, scoring='neg_mean_absolute_error', cv=5, n_jobs=-1)\n",
    "\n",
    "grid_search.fit(X_train, y_train_log)\n",
    "\n",
    "grid_search.best_estimator_\n",
    "\n",
    "print(\"Best parameters set found on train set: \\n\")\n",
    "print(grid_search.best_params_)\n",
    "print(\"\\nGrid scores on train set:\\n\")\n",
    "means = grid_search.cv_results_['mean_test_score']\n",
    "stds = grid_search.cv_results_['std_test_score']\n",
    "for mean, std, params in zip(means, stds, grid_search.cv_results_['params']):\n",
    "    print(\"%0.3f (+/-%0.03f) for %r\"\n",
    "              % (mean, std * 2, params))'''"
   ]
  },
  {
   "cell_type": "code",
   "execution_count": 41,
   "id": "8d5068ae-fa3e-4e74-895e-e322eb77ece9",
   "metadata": {},
   "outputs": [],
   "source": [
    "# grid_search.get_params().keys()"
   ]
  },
  {
   "cell_type": "code",
   "execution_count": 42,
   "id": "4d0d399f-eccd-40b5-b008-7ad9a525fc1e",
   "metadata": {},
   "outputs": [
    {
     "name": "stdout",
     "output_type": "stream",
     "text": [
      "[LibSVM]0.7031241551250526\n",
      "90108.05893086368\n",
      "138910.83454798165\n"
     ]
    }
   ],
   "source": [
    "params = {'tol': 0.005, 'kernel' : 'rbf', 'C' : 125, 'epsilon' : 0.1, 'gamma':'auto'}\n",
    "model = SVR(**params, verbose=True)\n",
    "pipeline = Pipeline(steps=[('prep',col_transform), ('m',model)])\n",
    "pipeline.fit(X_train, y_train_log)\n",
    "y_predict_log = pipeline.predict(X_test)\n",
    "\n",
    "#R2 and adjusted R2, MAE, RMSE\n",
    "print(r2_score(y_test_log, y_predict_log))\n",
    "print(mean_absolute_error(np.exp(y_test_log), np.exp(y_predict_log)))\n",
    "print(np.sqrt(mean_squared_error(np.exp(y_test_log), np.exp(y_predict_log))))"
   ]
  },
  {
   "cell_type": "code",
   "execution_count": 43,
   "id": "87ca6acd-181a-404b-a2d2-2629424c8283",
   "metadata": {},
   "outputs": [
    {
     "name": "stdout",
     "output_type": "stream",
     "text": [
      "0.6896003256861314\n"
     ]
    }
   ],
   "source": [
    "# adjusted R2\n",
    "n = X_test.shape[0]\n",
    "p = X_test.shape[1]\n",
    "R2 = r2_score(y_test_log, y_predict_log)\n",
    "adj_R2 = 1 - ((1-R2)*(n-1)/(n-p-1))\n",
    "print(adj_R2)"
   ]
  },
  {
   "cell_type": "code",
   "execution_count": 44,
   "id": "f5e66d26-87ea-4e14-86e1-9306abdb976d",
   "metadata": {},
   "outputs": [],
   "source": [
    "# Slight improvement, but still not the improvement we were hoping for. Let's try totally different complex model - XGBoost"
   ]
  },
  {
   "cell_type": "markdown",
   "id": "e3f9de65-45a6-44ae-b4e5-625aabe89a8b",
   "metadata": {},
   "source": [
    "# Modelling XGBoost with hyperparameter tuning using GridSearchCV"
   ]
  },
  {
   "cell_type": "code",
   "execution_count": 45,
   "id": "937b29d5-ff08-4a59-b79e-efa7fdf065af",
   "metadata": {},
   "outputs": [
    {
     "data": {
      "text/plain": [
       "'# Parameter Tuning\\n\\nparam_grid = {\\'m__learning_rate\\' : [0.05, 0.1, 0.15],\\n              \\'m__max_depth\\': [7, 8, 9],\\n              \\'m__gamma\\':[10, 1, 0.1],\\n              \\'m__subsample\\':[0.9, 0.95, 1],\\n              \\'m__colsample_bytree\\':[0.8, 0.85, 0.9],\\n              \\'m__alpha\\':[1, 5, 10],\\n              \\'m__lambda\\':[0.5, 1, 1.5],\\n              \\'m__n_estimators\\':[90, 100, 110]}\\n            \\nmodel = xgb.XGBRegressor(eval_metric=\\'mae\\')\\n\\npipeline = Pipeline(steps=[(\\'prep\\',col_transform), (\\'m\\',model)])\\n\\ngrid_search = GridSearchCV(pipeline, param_grid=param_grid, cv = 5, \\n                                   verbose=5, n_jobs=-1)\\ngrid_search.fit(X_train, y_train)\\n\\ngrid_search.best_estimator_\\n\\nprint(\"Best parameters set found on train set: \\n\")\\nprint(grid_search.best_params_)\\nprint(\"\\nGrid scores on train set:\\n\")\\nmeans = grid_search.cv_results_[\\'mean_test_score\\']\\nstds = grid_search.cv_results_[\\'std_test_score\\']\\nfor mean, std, params in zip(means, stds, grid_search.cv_results_[\\'params\\']):\\n    print(\"%0.3f (+/-%0.03f) for %r\"\\n              % (mean, std * 2, params))'"
      ]
     },
     "execution_count": 45,
     "metadata": {},
     "output_type": "execute_result"
    }
   ],
   "source": [
    "'''# Parameter Tuning\n",
    "\n",
    "param_grid = {'m__learning_rate' : [0.05, 0.1, 0.15],\n",
    "              'm__max_depth': [7, 8, 9],\n",
    "              'm__gamma':[10, 1, 0.1],\n",
    "              'm__subsample':[0.9, 0.95, 1],\n",
    "              'm__colsample_bytree':[0.8, 0.85, 0.9],\n",
    "              'm__alpha':[1, 5, 10],\n",
    "              'm__lambda':[0.5, 1, 1.5],\n",
    "              'm__n_estimators':[90, 100, 110]}\n",
    "            \n",
    "model = xgb.XGBRegressor(eval_metric='mae')\n",
    "\n",
    "pipeline = Pipeline(steps=[('prep',col_transform), ('m',model)])\n",
    "\n",
    "grid_search = GridSearchCV(pipeline, param_grid=param_grid, cv = 5, \n",
    "                                   verbose=5, n_jobs=-1)\n",
    "grid_search.fit(X_train, y_train)\n",
    "\n",
    "grid_search.best_estimator_\n",
    "\n",
    "print(\"Best parameters set found on train set: \\n\")\n",
    "print(grid_search.best_params_)\n",
    "print(\"\\nGrid scores on train set:\\n\")\n",
    "means = grid_search.cv_results_['mean_test_score']\n",
    "stds = grid_search.cv_results_['std_test_score']\n",
    "for mean, std, params in zip(means, stds, grid_search.cv_results_['params']):\n",
    "    print(\"%0.3f (+/-%0.03f) for %r\"\n",
    "              % (mean, std * 2, params))'''"
   ]
  },
  {
   "cell_type": "code",
   "execution_count": 46,
   "id": "edd3be71-0e01-42f0-9932-1a76f0683492",
   "metadata": {},
   "outputs": [
    {
     "name": "stdout",
     "output_type": "stream",
     "text": [
      "0.7761726840973217\n",
      "76501.64876379773\n",
      "122153.38319114472\n"
     ]
    }
   ],
   "source": [
    "params = {'n_estimators': 97, \n",
    "          'learning_rate': 0.09,\n",
    "          'max_depth': 8,\n",
    "          'gamma': 1, \n",
    "          'subsample': 0.95, \n",
    "          'colsample_bytree': 0.85,\n",
    "          'alpha': 2,\n",
    "          'lambda': 1}\n",
    "model = xgb.XGBRegressor(**params, eval_metric='mae')\n",
    "pipeline = Pipeline(steps=[('prep',col_transform), ('m',model)])\n",
    "\n",
    "# We don't need to log transform our target variable since it does not improve the results for XGBoost\n",
    "pipeline.fit(X_train, y_train)\n",
    "y_predict = pipeline.predict(X_test)\n",
    "\n",
    "#R2 and adjusted R2, MAE and RMSE\n",
    "print(r2_score(y_test, y_predict))\n",
    "\n",
    "print(mean_absolute_error(y_test, y_predict))\n",
    "print(np.sqrt(mean_squared_error(y_test, y_predict)))"
   ]
  },
  {
   "cell_type": "code",
   "execution_count": 47,
   "id": "8477abd6-6541-40db-9883-ff4b15ddfa96",
   "metadata": {},
   "outputs": [
    {
     "name": "stdout",
     "output_type": "stream",
     "text": [
      "0.7659764943557332\n"
     ]
    }
   ],
   "source": [
    "# adjusted R2\n",
    "n = X_test.shape[0]\n",
    "p = X_test.shape[1]\n",
    "R2 = r2_score(y_test_log, y_predict_log)\n",
    "R2 = r2_score(y_test, y_predict)\n",
    "adj_R2 = 1 - ((1-R2)*(n-1)/(n-p-1))\n",
    "print(adj_R2)"
   ]
  },
  {
   "cell_type": "code",
   "execution_count": 48,
   "id": "a792016a-9d8a-4840-a122-2b1c78ddef08",
   "metadata": {
    "tags": []
   },
   "outputs": [],
   "source": [
    "# Much better result with XGBoost"
   ]
  },
  {
   "cell_type": "markdown",
   "id": "90232ded-91ff-47c3-8e90-2793488b402f",
   "metadata": {
    "tags": []
   },
   "source": [
    "# Adding MAPIE package for prediction intervals and confidence levels"
   ]
  },
  {
   "cell_type": "code",
   "execution_count": 49,
   "id": "54464f61-1733-439b-974e-e49d55a1a2eb",
   "metadata": {},
   "outputs": [],
   "source": [
    "# estimate the prediction intervals instead of a prediction of a certain price per house, which is, frankly speaking, seems as an unrealistic task.\n",
    "\n",
    "from mapie.regression import MapieRegressor\n",
    "from mapie.metrics import regression_coverage_score"
   ]
  },
  {
   "cell_type": "code",
   "execution_count": 50,
   "id": "9c29bbd1-1763-4bea-a35b-9fe5193120c6",
   "metadata": {},
   "outputs": [],
   "source": [
    "# since MAPIE does not work with pipelines yet, let's transform our features first\n",
    "X_train = col_transform.fit_transform(X_train)\n",
    "X_test = col_transform.fit_transform(X_test)"
   ]
  },
  {
   "cell_type": "code",
   "execution_count": 51,
   "id": "8186e819-662f-44cd-8770-35ae17e2b5f9",
   "metadata": {},
   "outputs": [],
   "source": [
    "# we define our model with best parameters figured previously\n",
    "params = {'n_estimators': 97, \n",
    "          'learning_rate': 0.09,\n",
    "          'max_depth': 8,\n",
    "          'gamma': 1, \n",
    "          'subsample': 0.95, \n",
    "          'colsample_bytree': 0.85,\n",
    "          'alpha': 2,\n",
    "          'lambda': 1}\n",
    "\n",
    "model = xgb.XGBRegressor(**params, eval_metric='mae')"
   ]
  },
  {
   "cell_type": "code",
   "execution_count": 52,
   "id": "f46f0912-ed8b-4573-b629-83b40d745313",
   "metadata": {},
   "outputs": [],
   "source": [
    "mapie = MapieRegressor(estimator=model, method=\"base\", cv=5, n_jobs=-1)\n",
    "alpha = 0.25"
   ]
  },
  {
   "cell_type": "code",
   "execution_count": 53,
   "id": "9a334876-7987-4547-87ad-8b56acc9d4da",
   "metadata": {},
   "outputs": [
    {
     "data": {
      "text/plain": [
       "MapieRegressor(cv=5,\n",
       "               estimator=XGBRegressor(alpha=2, base_score=None, booster=None,\n",
       "                                      colsample_bylevel=None,\n",
       "                                      colsample_bynode=None,\n",
       "                                      colsample_bytree=0.85,\n",
       "                                      enable_categorical=False,\n",
       "                                      eval_metric='mae', gamma=1, gpu_id=None,\n",
       "                                      importance_type=None,\n",
       "                                      interaction_constraints=None, lambda=1,\n",
       "                                      learning_rate=0.09, max_delta_step=None,\n",
       "                                      max_depth=8, min_child_weight=None,\n",
       "                                      missing=nan, monotone_constraints=None,\n",
       "                                      n_estimators=97, n_jobs=None,\n",
       "                                      num_parallel_tree=None, predictor=None,\n",
       "                                      random_state=None, reg_alpha=None,\n",
       "                                      reg_lambda=None, scale_pos_weight=None,\n",
       "                                      subsample=0.95, tree_method=None,\n",
       "                                      validate_parameters=None, ...),\n",
       "               method='base', n_jobs=-1)"
      ]
     },
     "execution_count": 53,
     "metadata": {},
     "output_type": "execute_result"
    }
   ],
   "source": [
    "mapie.fit(X_train, y_train)"
   ]
  },
  {
   "cell_type": "code",
   "execution_count": 54,
   "id": "a57d0362-db20-455b-9679-f94bf3634bcb",
   "metadata": {},
   "outputs": [],
   "source": [
    "# Get interval predictions on test data, with alpha=05%\n",
    "y_test_pred_interval = pd.DataFrame(mapie.predict(X_test, alpha=alpha)[1].reshape(-1,2), columns=[\"left\", \"right\"]) \n",
    "# we reshaped the output of MAPIE for better visual representation"
   ]
  },
  {
   "cell_type": "code",
   "execution_count": 55,
   "id": "dccc2f2b-e763-4bcc-a6f6-3a6fa0a2e46a",
   "metadata": {},
   "outputs": [
    {
     "data": {
      "text/html": [
       "<div>\n",
       "<style scoped>\n",
       "    .dataframe tbody tr th:only-of-type {\n",
       "        vertical-align: middle;\n",
       "    }\n",
       "\n",
       "    .dataframe tbody tr th {\n",
       "        vertical-align: top;\n",
       "    }\n",
       "\n",
       "    .dataframe thead th {\n",
       "        text-align: right;\n",
       "    }\n",
       "</style>\n",
       "<table border=\"1\" class=\"dataframe\">\n",
       "  <thead>\n",
       "    <tr style=\"text-align: right;\">\n",
       "      <th></th>\n",
       "      <th>left</th>\n",
       "      <th>right</th>\n",
       "    </tr>\n",
       "  </thead>\n",
       "  <tbody>\n",
       "    <tr>\n",
       "      <th>0</th>\n",
       "      <td>354657.25</td>\n",
       "      <td>548336.12</td>\n",
       "    </tr>\n",
       "    <tr>\n",
       "      <th>1</th>\n",
       "      <td>697784.00</td>\n",
       "      <td>891462.88</td>\n",
       "    </tr>\n",
       "    <tr>\n",
       "      <th>2</th>\n",
       "      <td>973731.81</td>\n",
       "      <td>1167410.69</td>\n",
       "    </tr>\n",
       "    <tr>\n",
       "      <th>3</th>\n",
       "      <td>482099.25</td>\n",
       "      <td>675778.12</td>\n",
       "    </tr>\n",
       "    <tr>\n",
       "      <th>4</th>\n",
       "      <td>425140.19</td>\n",
       "      <td>618819.06</td>\n",
       "    </tr>\n",
       "    <tr>\n",
       "      <th>...</th>\n",
       "      <td>...</td>\n",
       "      <td>...</td>\n",
       "    </tr>\n",
       "    <tr>\n",
       "      <th>3347</th>\n",
       "      <td>241306.38</td>\n",
       "      <td>434985.25</td>\n",
       "    </tr>\n",
       "    <tr>\n",
       "      <th>3348</th>\n",
       "      <td>233692.94</td>\n",
       "      <td>427371.81</td>\n",
       "    </tr>\n",
       "    <tr>\n",
       "      <th>3349</th>\n",
       "      <td>706088.44</td>\n",
       "      <td>899767.31</td>\n",
       "    </tr>\n",
       "    <tr>\n",
       "      <th>3350</th>\n",
       "      <td>252992.34</td>\n",
       "      <td>446671.22</td>\n",
       "    </tr>\n",
       "    <tr>\n",
       "      <th>3351</th>\n",
       "      <td>163198.27</td>\n",
       "      <td>356877.14</td>\n",
       "    </tr>\n",
       "  </tbody>\n",
       "</table>\n",
       "<p>3352 rows × 2 columns</p>\n",
       "</div>"
      ],
      "text/plain": [
       "           left       right\n",
       "0     354657.25   548336.12\n",
       "1     697784.00   891462.88\n",
       "2     973731.81  1167410.69\n",
       "3     482099.25   675778.12\n",
       "4     425140.19   618819.06\n",
       "...         ...         ...\n",
       "3347  241306.38   434985.25\n",
       "3348  233692.94   427371.81\n",
       "3349  706088.44   899767.31\n",
       "3350  252992.34   446671.22\n",
       "3351  163198.27   356877.14\n",
       "\n",
       "[3352 rows x 2 columns]"
      ]
     },
     "execution_count": 55,
     "metadata": {},
     "output_type": "execute_result"
    }
   ],
   "source": [
    "y_test_pred_interval.round(2) # this is interval for our house price prediction with 75% confidence that our predicted price will be within it"
   ]
  },
  {
   "cell_type": "code",
   "execution_count": 56,
   "id": "56d53de5-d2eb-4e49-809b-392bdb5397cb",
   "metadata": {},
   "outputs": [],
   "source": [
    "# Not very applicable in this case, but that is because of the current perfomance of our model that gives only slightly above 75% of variance of target variable explained"
   ]
  },
  {
   "cell_type": "code",
   "execution_count": null,
   "id": "91ff422b-73cd-4249-84b8-3e4f4c7d9e0c",
   "metadata": {},
   "outputs": [],
   "source": []
  }
 ],
 "metadata": {
  "kernelspec": {
   "display_name": "final_project",
   "language": "python",
   "name": "final_project"
  },
  "language_info": {
   "codemirror_mode": {
    "name": "ipython",
    "version": 3
   },
   "file_extension": ".py",
   "mimetype": "text/x-python",
   "name": "python",
   "nbconvert_exporter": "python",
   "pygments_lexer": "ipython3",
   "version": "3.8.12"
  }
 },
 "nbformat": 4,
 "nbformat_minor": 5
}
